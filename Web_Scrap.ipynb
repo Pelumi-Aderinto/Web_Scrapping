{
 "cells": [
  {
   "cell_type": "code",
   "execution_count": 1,
   "metadata": {},
   "outputs": [
    {
     "name": "stdout",
     "output_type": "stream",
     "text": [
      "Collecting beautifulsoup4\n",
      "  Downloading beautifulsoup4-4.11.1-py3-none-any.whl (128 kB)\n",
      "     ------------------------------------ 128.2/128.2 kB 314.4 kB/s eta 0:00:00\n",
      "Collecting soupsieve>1.2\n",
      "  Downloading soupsieve-2.3.2.post1-py3-none-any.whl (37 kB)\n",
      "Installing collected packages: soupsieve, beautifulsoup4\n",
      "Successfully installed beautifulsoup4-4.11.1 soupsieve-2.3.2.post1\n",
      "Note: you may need to restart the kernel to use updated packages.\n"
     ]
    }
   ],
   "source": [
    "pip install beautifulsoup4"
   ]
  },
  {
   "cell_type": "code",
   "execution_count": 38,
   "metadata": {},
   "outputs": [
    {
     "name": "stdout",
     "output_type": "stream",
     "text": [
      "Libraries Successfully Imported!\n"
     ]
    }
   ],
   "source": [
    "import pandas as pd\n",
    "import requests\n",
    "\n",
    "from bs4 import BeautifulSoup as BS\n",
    "import numpy as np\n",
    "print(\"Libraries Successfully Imported!\")"
   ]
  },
  {
   "cell_type": "code",
   "execution_count": 39,
   "metadata": {},
   "outputs": [],
   "source": [
    "url = \"https://www.dawn.com/\"\n",
    "extracting_data = requests.get(url).content\n",
    "wiki_data = BS(extracting_data, 'html.parser')"
   ]
  },
  {
   "cell_type": "code",
   "execution_count": 7,
   "metadata": {},
   "outputs": [],
   "source": [
    "Headlines = []\n",
    "for news in wiki_data.findAll('h2'):\n",
    "    Headlines.append(news.text)\n"
   ]
  },
  {
   "cell_type": "code",
   "execution_count": 8,
   "metadata": {},
   "outputs": [
    {
     "data": {
      "text/plain": [
       "189"
      ]
     },
     "execution_count": 8,
     "metadata": {},
     "output_type": "execute_result"
    }
   ],
   "source": [
    "len(Headlines)"
   ]
  },
  {
   "cell_type": "code",
   "execution_count": 43,
   "metadata": {},
   "outputs": [],
   "source": [
    "Headlines = []\n",
    "links = []\n",
    "story =[]\n",
    "i=0\n",
    "data = []\n",
    "for news in wiki_data.findAll('h2' , {'class':'story__title'}):\n",
    "    datum = {}\n",
    "    Headlines.append(news.text.strip('\\n'))\n",
    "    links.append(news.a['href'])\n",
    "    page = requests.get(links[i])\n",
    "    Object = BS(page.content)\n",
    "    for news in Object.findAll('div',{'class':'story__content'}):\n",
    "        D_story = news.text.strip('\\n')\n",
    "        if D_story == \"\":\n",
    "            story.append(None)\n",
    "        else:\n",
    "            story.append(D_story)\n",
    "    \n",
    "        datum['Headlines'] = Headlines[i]\n",
    "        datum['Links'] = links[i]\n",
    "        datum ['Story'] = story[i]\n",
    "        data.append(datum)\n",
    "        i+=1"
   ]
  },
  {
   "cell_type": "code",
   "execution_count": 44,
   "metadata": {},
   "outputs": [
    {
     "data": {
      "text/plain": [
       "10"
      ]
     },
     "execution_count": 44,
     "metadata": {},
     "output_type": "execute_result"
    }
   ],
   "source": [
    "len(data)"
   ]
  },
  {
   "cell_type": "code",
   "execution_count": 21,
   "metadata": {},
   "outputs": [
    {
     "data": {
      "text/plain": [
       "177"
      ]
     },
     "execution_count": 21,
     "metadata": {},
     "output_type": "execute_result"
    }
   ],
   "source": [
    "len(Headlines)"
   ]
  },
  {
   "cell_type": "code",
   "execution_count": 11,
   "metadata": {},
   "outputs": [],
   "source": [
    "links = []\n",
    "for news in wiki_data.findAll('h2' , {'class':'story__title'}):\n",
    "    links.append(news.a['href'])\n"
   ]
  },
  {
   "cell_type": "code",
   "execution_count": 12,
   "metadata": {},
   "outputs": [
    {
     "data": {
      "text/plain": [
       "177"
      ]
     },
     "execution_count": 12,
     "metadata": {},
     "output_type": "execute_result"
    }
   ],
   "source": [
    "len(links)"
   ]
  },
  {
   "cell_type": "code",
   "execution_count": 13,
   "metadata": {},
   "outputs": [],
   "source": [
    "story=[]"
   ]
  },
  {
   "cell_type": "code",
   "execution_count": 14,
   "metadata": {},
   "outputs": [],
   "source": [
    "story.append(None)"
   ]
  },
  {
   "cell_type": "code",
   "execution_count": 15,
   "metadata": {},
   "outputs": [
    {
     "data": {
      "text/plain": [
       "[None]"
      ]
     },
     "execution_count": 15,
     "metadata": {},
     "output_type": "execute_result"
    }
   ],
   "source": [
    "story"
   ]
  },
  {
   "cell_type": "code",
   "execution_count": null,
   "metadata": {},
   "outputs": [],
   "source": [
    "\n",
    "page = requests.get(links[i])\n",
    "Object = BS(page.content)\n",
    "i =\n",
    "for news in Object.findAll('div',{'class':'story__content'}):\n",
    "    D_story = news.text.strip('\\n')\n",
    "    if D_story:\n",
    "        story.append(D_story)\n",
    "    else:\n",
    "        story.append(None)"
   ]
  },
  {
   "cell_type": "code",
   "execution_count": null,
   "metadata": {},
   "outputs": [],
   "source": []
  },
  {
   "cell_type": "code",
   "execution_count": 78,
   "metadata": {},
   "outputs": [
    {
     "data": {
      "text/plain": [
       "'https://www.dawn.com/news/1706558/islamabad-police-seeks-7-day-extension-of-shahbaz-gills-physical-remand'"
      ]
     },
     "execution_count": 78,
     "metadata": {},
     "output_type": "execute_result"
    }
   ],
   "source": [
    "links[0]"
   ]
  },
  {
   "cell_type": "code",
   "execution_count": 73,
   "metadata": {},
   "outputs": [],
   "source": [
    "story = []\n",
    "for link in links:\n",
    "    page = requests.get(link)\n",
    "    Object = BS(page.content)\n",
    "    for news in Object.findAll('div',{'class':'story__content'}):\n",
    "        story.append(news.text.strip('\\n'))"
   ]
  },
  {
   "cell_type": "code",
   "execution_count": 45,
   "metadata": {},
   "outputs": [
    {
     "data": {
      "text/plain": [
       "['https://www.dawn.com/news/1706740/ministers-say-flood-crisis-a-national-emergency-urge-public-to-participate-in-relief-and-rescue-efforts',\n",
       " 'https://www.dawn.com/news/1706721/former-pm-imran-granted-interim-bails-in-terrorism-section-144-cases',\n",
       " 'https://www.dawn.com/news/1706734/pkr-slides-by-rs103-in-interbank',\n",
       " 'https://www.dawn.com/news/1706733/shahbaz-gill-seeks-post-arrest-bail-from-islamabad-court-in-sedition-case',\n",
       " 'https://www.dawn.com/news/1706741/protests-in-karachi-against-inflated-electricity-bills-power-outages',\n",
       " 'https://www.dawn.com/news/1706732/rana-sanaullah-says-imran-not-army-behind-narcotics-case-against-him',\n",
       " 'https://www.dawn.com/news/1706737/taliban-say-theyve-not-found-body-of-al-qaeda-leader-zawahiri',\n",
       " 'https://www.dawn.com/news/1706739/watson-expects-rejuvenated-kohli-to-come-out-of-funk-soon',\n",
       " 'https://www.dawn.com/news/1706693/kp-flooding-punjab-hill-torrents-claim-eight-lives',\n",
       " 'https://www.dawn.com/news/1706691/more-internet-outages-expected-in-coming-days',\n",
       " 'https://www.youtube.com/watch?v=aKLanIE_Ok0',\n",
       " 'https://www.youtube.com/watch?v=xTx0h5dsV5w',\n",
       " 'https://www.youtube.com/watch?v=AW34-x_27tY',\n",
       " 'https://www.dawn.com/news/1706574/what-gwadar-can-learn-from-indias-mundra-port',\n",
       " 'https://www.dawn.com/news/1706723/editorial-for-now-our-leaders-must-focus-on-helping-flood-victims-political-circus-can-wait-for-another-day',\n",
       " 'https://www.dawn.com/news/1706715/how-our-development-model-has-exacerbated-the-impact-of-climate-induced-flooding',\n",
       " 'https://www.dawn.com/news/1706718/how-brands-can-weather-through-the-economic-crisis',\n",
       " 'https://www.dawn.com/news/1706714/editorial-stuck-in-a-mexican-stand-off-our-politicians-are-damaging-their-own-future-prospects',\n",
       " 'https://www.dawn.com/news/1706743/ali-sethi-shae-gill-hasan-raheem-and-justin-bibis-to-perform-in-the-first-coke-studio-live-in-dubai',\n",
       " 'https://www.dawn.com/news/1706738/khoosat-films-to-re-release-telefilm-hernaam-kaur-a-tribute-to-mantos-piercing-partition-narrative-on-aug-26',\n",
       " 'https://www.dawn.com/news/1706703/countering-violent-extremism',\n",
       " 'https://www.dawn.com/news/1706735/jacqueline-fernandez-says-she-was-forced-to-accept-gifts-from-conman-sukesh-chandrasekhar',\n",
       " 'https://www.dawn.com/news/1706731/talha-anjum-drops-new-music-track-nevermind-in-collaboration-with-indian-rapper-calm',\n",
       " 'https://www.dawn.com/news/1706730/joyland-stars-ali-junejo-rasti-farooqs-new-play-both-sit-in-silence-for-a-while-to-kick-off-in-karachi-on-aug-26',\n",
       " 'https://www.dawn.com/news/1706546/planning-on-visiting-dubai-heres-a-complete-lowdown-of-attractions-that-need-to-make-it-to-your-wishlist',\n",
       " 'https://www.chinadaily.com.cn/a/202208/25/WS6306dc6ca310fd2b29e742cf.html',\n",
       " 'https://www.chinadaily.com.cn/a/202208/25/WS6306df62a310fd2b29e742dd.html',\n",
       " 'https://www.chinadaily.com.cn/a/202208/25/WS6306d6fca310fd2b29e74298.html',\n",
       " 'https://www.dawn.com/news/1706415/india-sacks-3-for-accidentally-launching-missile-into-pakistan-in-march',\n",
       " 'https://www.dawn.com/news/1706558/islamabad-court-rejects-police-request-for-7-day-extension-in-shahbaz-gills-physical-remand',\n",
       " 'https://www.dawn.com/news/1706556/indias-ndtv-how-adani-acquired-a-firm-controlled-by-an-ambani-aide-to-launch-a-hostile-take-over-bid',\n",
       " 'https://www.dawn.com/news/1706508/pakistans-political-turmoil-echoes-in-us-un-corridors',\n",
       " 'https://www.dawn.com/news/1706513/pakistan-seeks-world-aid-to-cope-with-flood-emergency',\n",
       " 'https://www.dawn.com/news/1706704/man-made-catastrophes',\n",
       " 'https://www.dawn.com/news/1706703/countering-violent-extremism',\n",
       " 'https://www.dawn.com/news/1706702/the-inner-sanctum',\n",
       " 'https://www.dawn.com/news/1706701/domestic-inquiries',\n",
       " 'https://www.dawn.com/news/1706530/politics-in-times-of-calamity',\n",
       " 'https://www.dawn.com/news/1706700/mexican-stand-off',\n",
       " 'https://www.dawn.com/news/1706699/misplaced-priorities',\n",
       " 'https://www.dawn.com/news/1706698/high-electricity-prices',\n",
       " 'https://www.dawn.com/news/1706530/politics-in-times-of-calamity',\n",
       " 'https://www.dawn.com/news/1706366/of-cavemen-and-nationalists',\n",
       " 'https://www.dawn.com/news/1705504/our-living-standards',\n",
       " 'https://www.dawn.com/news/1706191/economic-cost-of-uncertainty',\n",
       " 'https://www.dawn.com/news/1705860/bureaucracys-place',\n",
       " 'https://www.dawn.com/news/1706739/watson-expects-rejuvenated-kohli-to-come-out-of-funk-soon',\n",
       " 'https://www.dawn.com/news/1706611/mohammad-yousuf-looking-beyond-india-clash-says-pakistan-eyeing-asia-cup-title',\n",
       " 'https://www.dawn.com/news/1706609/vvs-laxman-named-indias-interim-coach-for-asia-cup',\n",
       " 'https://www.dawn.com/news/1706610/injured-buttler-eyes-full-fitness-ahead-of-pakistan-t20s',\n",
       " 'https://www.dawn.com/news/1706442/pakistan-believe-they-can-compete-with-india-day-in-day-out-wasim-akram',\n",
       " 'https://www.dawn.com/news/1706436/arshad-nadeem-to-go-under-the-knife-next-month',\n",
       " 'https://www.dawn.com/news/1706734/pkr-slides-by-rs103-in-interbank',\n",
       " 'https://www.dawn.com/news/1706574/what-gwadar-can-learn-from-indias-mundra-port',\n",
       " 'https://www.dawn.com/news/1706719/oil-prices-rise-on-potential-opec-supply-cuts-bp-shuts-us-refinery-units',\n",
       " 'https://www.dawn.com/news/1706663/govt-advised-against-steep-regulatory-duties-ahead-of-imf-meet',\n",
       " 'https://www.dawn.com/news/1706720/elon-musks-lawyers-seize-on-twitter-whistleblower-revelations',\n",
       " 'https://www.dawn.com/news/1706657/foreign-investment-dips-43pc-in-july',\n",
       " 'https://www.dawn.com/news/1706737/taliban-say-theyve-not-found-body-of-al-qaeda-leader-zawahiri',\n",
       " 'https://www.dawn.com/news/1706692/biden-orders-strikes-against-iran-backed-militias-in-syria',\n",
       " 'https://www.dawn.com/news/1706729/japan-national-police-chief-resigns-over-ex-pm-shinzo-abes-assassination',\n",
       " 'https://www.dawn.com/news/1706728/indias-ndtv-seeks-to-block-adani-takeover-on-regulatory-issues',\n",
       " 'https://www.dawn.com/news/1706678/iran-tests-drones-amid-us-concern-of-possible-supply-to-russia',\n",
       " 'https://www.dawn.com/news/1706689/us-announces-3bn-in-military-aid-for-ukraine',\n",
       " 'https://www.dawn.com/news/1706743/ali-sethi-shae-gill-hasan-raheem-and-justin-bibis-to-perform-in-the-first-coke-studio-live-in-dubai',\n",
       " 'https://www.dawn.com/news/1706738/khoosat-films-to-re-release-telefilm-hernaam-kaur-a-tribute-to-mantos-piercing-partition-narrative-on-aug-26',\n",
       " 'https://www.dawn.com/news/1706735/jacqueline-fernandez-says-she-was-forced-to-accept-gifts-from-conman-sukesh-chandrasekhar',\n",
       " 'https://www.dawn.com/news/1706574/what-gwadar-can-learn-from-indias-mundra-port',\n",
       " 'https://www.dawn.com/news/1706053/nayyara-noor-tugged-at-the-heartstrings-like-no-other-singer-will',\n",
       " 'https://www.dawn.com/news/1705220/who-is-profiting-from-the-extreme-heat-in-urban-pakistan',\n",
       " 'https://www.dawn.com/news/1706720/elon-musks-lawyers-seize-on-twitter-whistleblower-revelations',\n",
       " 'https://www.dawn.com/news/1706726/us-firm-buys-pakistani-tech-company-cloudways-for-350m',\n",
       " 'https://www.dawn.com/news/1706691/more-internet-outages-expected-in-coming-days',\n",
       " 'https://www.dawn.com/news/1706016/rafting-the-indus',\n",
       " 'https://www.dawn.com/news/1706019/law-the-gentlemens-club',\n",
       " 'https://www.dawn.com/news/1706022/psychology-the-psychology-of-trolling',\n",
       " 'https://www.dawn.com/news/1706050/the-icon-interview-the-excitement-of-zhalay',\n",
       " 'https://www.dawn.com/news/1706048/soundcheck-injecting-immunity',\n",
       " 'https://www.dawn.com/news/1706047/the-grapevine',\n",
       " 'https://www.dawn.com/news/1706184/bold-measures-for-raising-revenue',\n",
       " 'https://www.dawn.com/news/1706183/band-aid-measures-and-crisis-galore',\n",
       " 'https://www.dawn.com/news/1706182/in-the-hands-of-a-few-to-the-detriment-of-all',\n",
       " 'https://www.dawn.com/news/1493036/the-railway-lines-in-pakistan-and-the-stories-they-tell',\n",
       " 'https://www.dawn.com/news/1491958/the-pleasures-and-perils-of-sheltering-animals',\n",
       " 'https://www.dawn.com/news/1491613/what-lies-behind-the-spread-of-hiv-in-larkana',\n",
       " 'https://www.dawn.com/news/1706718/how-brands-can-weather-through-the-economic-crisis',\n",
       " 'https://www.dawn.com/news/1706549/super-tax-a-tough-decision-or-a-necessity',\n",
       " 'https://www.dawn.com/news/1706548/a-super-tax-to-not-much',\n",
       " 'https://www.dawn.com/news/1660293/epicurious-the-gingerbread-village',\n",
       " 'https://www.dawn.com/news/1660589/golf-pakistans-soaring-eagles',\n",
       " 'https://www.dawn.com/news/1660591/society-inspiring-inclusivity-one-post-at-a-time',\n",
       " 'https://www.dawn.com/news/1705735/dreams-that-changed-the-world',\n",
       " 'https://www.dawn.com/news/1705734/mailbox',\n",
       " 'https://www.dawn.com/news/1705733/poets-corner',\n",
       " 'https://www.dawn.com/news/1706036/fiction-a-frenchmans-pakistan',\n",
       " 'https://www.dawn.com/news/1706035/poetry-iqbals-true-heir',\n",
       " 'https://www.dawn.com/news/1706034/fiction-confronting-prejudices',\n",
       " 'https://www.dawn.com/news/1706697/doha-declares-intent-to-invest-3bn-in-pakistan',\n",
       " 'https://www.dawn.com/news/1706696/sc-moved-for-withdrawal-of-fuel-price-adjustment-from-power-bills',\n",
       " 'https://www.dawn.com/news/1706695/ecp-puts-off-lg-polls-in-seven-districts-of-karachi',\n",
       " 'https://www.dawn.com/news/1706694/plea-to-extend-gills-remand-for-seven-days-rejected',\n",
       " 'https://www.dawn.com/news/1706693/kp-flooding-punjab-hill-torrents-claim-eight-lives',\n",
       " 'https://www.dawn.com/news/1706692/biden-orders-strikes-against-iran-backed-militias-in-syria',\n",
       " 'https://www.dawn.com/news/1706691/more-internet-outages-expected-in-coming-days',\n",
       " 'https://www.dawn.com/news/1706690/pakistan-terms-indian-report-on-missile-firing-deficient',\n",
       " 'https://www.dawn.com/news/1706689/us-announces-3bn-in-military-aid-for-ukraine',\n",
       " 'https://www.dawn.com/news/1706688/court-suspends-thai-pm-from-office',\n",
       " 'https://www.dawn.com/news/1706675/supreme-court-sets-aside-objections-to-pti-pleas-on-voting-rights',\n",
       " 'https://www.dawn.com/news/1706674/us-city-begins-gofundme-to-set-up-welfare-school-in-okara',\n",
       " 'https://www.dawn.com/news/1706673/govt-expects-30m-loan-to-tackle-lumpy-skin-disease',\n",
       " 'https://www.dawn.com/news/1706670/special-assistance-ordered-for-kana-yaari-fame-wahab-bugti',\n",
       " 'https://www.dawn.com/news/1706666/asif-stresses-significance-of-afghan-peace',\n",
       " 'https://www.dawn.com/news/1706596/most-ke-consumers-may-not-get-benefit-of-fuel-adjustment-charges-waiver',\n",
       " 'https://www.dawn.com/news/1706585/lightning-kills-woman-as-heavy-rain-worsens-conditions-in-already-flooded-areas-of-sindh',\n",
       " 'https://www.dawn.com/news/1706584/toddler-cop-drown',\n",
       " 'https://www.dawn.com/news/1706595/shc-moved-against-kes-night-time-loadshedding-overbilling',\n",
       " 'https://www.dawn.com/news/1706594/sindh-govt-sets-up-flood-relief-fund-to-help-rain-hit-people',\n",
       " 'https://www.dawn.com/news/1706629/two-more-cases-against-accused-in-layyah-pornography-case',\n",
       " 'https://www.dawn.com/news/1706624/man-kills-daughter',\n",
       " 'https://www.dawn.com/news/1706643/outrage-against-fpa-in-bills-govt-relief-measure-seems-too-little-too-late',\n",
       " 'https://www.dawn.com/news/1706642/129-cases-registered-over-dengue-sops-violations',\n",
       " 'https://www.dawn.com/news/1706641/lhc-stays-notices-to-nab-officials-in-tayyaba-gul-case',\n",
       " 'https://www.dawn.com/news/1706654/qatar-plans-to-set-up-school-in-islamabad',\n",
       " 'https://www.dawn.com/news/1706647/exhibition-features-works-depicting-pakistans-landscape',\n",
       " 'https://www.dawn.com/news/1706655/pm-shehbaz-constitutes-search-committee-to-appoint-pmc-members',\n",
       " 'https://www.dawn.com/news/1706653/dengue-cases-rising-in-rawalpindi',\n",
       " 'https://www.dawn.com/news/1706652/another-bogus-plot-allotment-scam-surfaces-in-cda',\n",
       " 'https://www.dawn.com/news/1706630/salarzai-people-end-boycott-of-polio-campaign',\n",
       " 'https://www.dawn.com/news/1706627/floods-damage-houses-block-roads-in-swat-dir',\n",
       " 'https://www.dawn.com/news/1706623/imran-hopeful-about-early-elections-in-country',\n",
       " 'https://www.dawn.com/news/1706622/pti-lawyers-protest-terrorism-case-against-party-chief',\n",
       " 'https://www.dawn.com/news/1706621/govt-to-start-nano-degree-programme',\n",
       " 'https://www.dawn.com/news/1706656/stocks-stay-flat-in-sluggish-trading-day',\n",
       " 'https://www.dawn.com/news/1706663/govt-advised-against-steep-regulatory-duties-ahead-of-imf-meet',\n",
       " 'https://www.dawn.com/news/1706662/cad-shrinks-45pc-in-july',\n",
       " 'https://www.dawn.com/news/1706661/us-firm-buys-cloudways-for-350m',\n",
       " 'https://www.dawn.com/news/1706660/hascol-inches-closer-to-loan-restructuring',\n",
       " 'https://www.dawn.com/news/1706611/mohammad-yousuf-looking-beyond-india-clash-says-pakistan-eyeing-asia-cup-title',\n",
       " 'https://www.dawn.com/news/1706608/england-recall-robinson-in-bid-to-level-test-series-against-sa',\n",
       " 'https://www.dawn.com/news/1706601/benficas-neres-ends-dynamos-champions-league-hopes',\n",
       " 'https://www.dawn.com/news/1706598/fulham-suffer-shock-league-cup-exit-everton-grab-first-win-of-season',\n",
       " 'https://www.dawn.com/news/1706610/injured-buttler-eyes-full-fitness-ahead-of-pakistan-t20s',\n",
       " 'https://www.dawn.com/news/1706700/mexican-stand-off',\n",
       " 'https://www.dawn.com/news/1706699/misplaced-priorities',\n",
       " 'https://www.dawn.com/news/1706698/high-electricity-prices',\n",
       " 'https://www.dawn.com/news/1706526/sbps-caution',\n",
       " 'https://www.dawn.com/news/1706525/an-almost-lynching',\n",
       " 'https://www.dawn.com/news/1706704/man-made-catastrophes',\n",
       " 'https://www.dawn.com/news/1706703/countering-violent-extremism',\n",
       " 'https://www.dawn.com/news/1706702/the-inner-sanctum',\n",
       " 'https://www.dawn.com/news/1706701/domestic-inquiries',\n",
       " 'https://www.dawn.com/news/1706530/politics-in-times-of-calamity',\n",
       " 'https://www.dawn.com/news/1706686/teen-becomes-youngest-person-to-fly-solo-around-the-world',\n",
       " 'https://www.dawn.com/news/1706685/us-threatens-turkiye-with-sanctions-over-russia-ties',\n",
       " 'https://www.dawn.com/news/1706684/china-faces-severe-threat-to-harvest-from-worst-heatwave-on-record',\n",
       " 'https://www.dawn.com/news/1706683/passengers-stuck-for-hours-inside-channel-tunnel',\n",
       " 'https://www.dawn.com/news/1706682/indian-tycoons-bid-for-ndtv-stokes-fears-for-media-freedom',\n",
       " 'https://www.dawn.com/news/1660293/epicurious-the-gingerbread-village',\n",
       " 'https://www.dawn.com/news/1660589/golf-pakistans-soaring-eagles',\n",
       " 'https://www.dawn.com/news/1660591/society-inspiring-inclusivity-one-post-at-a-time',\n",
       " 'https://www.dawn.com/news/1660694/a-battle-of-the-sexes-amid-scalpels-and-sutures',\n",
       " 'https://www.dawn.com/news/1564771/health-voices-from-the-front-lines',\n",
       " 'https://www.dawn.com/news/1706036/fiction-a-frenchmans-pakistan',\n",
       " 'https://www.dawn.com/news/1706035/poetry-iqbals-true-heir',\n",
       " 'https://www.dawn.com/news/1706034/fiction-confronting-prejudices',\n",
       " 'https://www.dawn.com/news/1706033/column-language-as-a-substance',\n",
       " 'https://www.dawn.com/news/1706032/litbuzz',\n",
       " 'https://www.dawn.com/news/1706184/bold-measures-for-raising-revenue',\n",
       " 'https://www.dawn.com/news/1706183/band-aid-measures-and-crisis-galore',\n",
       " 'https://www.dawn.com/news/1706182/in-the-hands-of-a-few-to-the-detriment-of-all',\n",
       " 'https://www.dawn.com/news/1706181/whither-home-remittances',\n",
       " 'https://www.dawn.com/news/1706180/missed-targets-of-wheat-and-corruption',\n",
       " 'https://www.dawn.com/news/1705735/dreams-that-changed-the-world',\n",
       " 'https://www.dawn.com/news/1705734/mailbox',\n",
       " 'https://www.dawn.com/news/1705733/poets-corner',\n",
       " 'https://www.dawn.com/news/1705732/insight-uniforms-to-have-or-not-to-have',\n",
       " 'https://www.dawn.com/news/1705731/movie-review-paws-of-fury-the-legend-of-hank']"
      ]
     },
     "execution_count": 45,
     "metadata": {},
     "output_type": "execute_result"
    }
   ],
   "source": [
    "links"
   ]
  },
  {
   "cell_type": "code",
   "execution_count": 16,
   "metadata": {},
   "outputs": [],
   "source": [
    "def clean_string(var):\n",
    "    var = str(var)\n",
    "    var = var.strip()\n",
    "    var = var.replace('\\n', '')\n",
    "    return var"
   ]
  },
  {
   "cell_type": "code",
   "execution_count": null,
   "metadata": {},
   "outputs": [],
   "source": []
  }
 ],
 "metadata": {
  "kernelspec": {
   "display_name": "Python 3.10.6 ('Kubeflow_Pipelines-master-oUkMXjJq')",
   "language": "python",
   "name": "python3"
  },
  "language_info": {
   "codemirror_mode": {
    "name": "ipython",
    "version": 3
   },
   "file_extension": ".py",
   "mimetype": "text/x-python",
   "name": "python",
   "nbconvert_exporter": "python",
   "pygments_lexer": "ipython3",
   "version": "3.10.6"
  },
  "orig_nbformat": 4,
  "vscode": {
   "interpreter": {
    "hash": "0ad50f5c4eb016e033faa80e5e094e3843f36ce778b98bf7ef2521b490b1589d"
   }
  }
 },
 "nbformat": 4,
 "nbformat_minor": 2
}
